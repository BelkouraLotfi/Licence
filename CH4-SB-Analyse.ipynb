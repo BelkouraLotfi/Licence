{
 "cells": [
  {
   "cell_type": "markdown",
   "metadata": {
    "slideshow": {
     "slide_type": "slide"
    }
   },
   "source": [
    "<h2 align=\"center\"> Structures bouclées: Analyse</h2>\n",
    "\n",
    "<h3 align=\"center\"> Fonctions de transfert équivalentes</h3>\n",
    "<h3 align=\"center\">  Stabilité</h3>\n",
    "<h3 align=\"center\"> Précision et rejet de perturbations</h3>"
   ]
  },
  {
   "cell_type": "markdown",
   "metadata": {
    "slideshow": {
     "slide_type": "slide"
    }
   },
   "source": [
    "Lorsque tous les élement d'un asservissement sont linéaires, la structure générale de commande inroduite précédemment\n",
    "\n",
    "<div><center><img src=\"Figures/StructBouclee.svg\" width=\"50%\"/></center></div> \n",
    "\n",
    "peut prendre une forme plus précise et plus pratique pour l'analyse et la conception, comme par exemple (refaire fgure)\n",
    "\n",
    "<center><img src=\"Figures/SB-KGH-D.svg\", width=\"40%\"/></center> \n"
   ]
  },
  {
   "cell_type": "markdown",
   "metadata": {
    "slideshow": {
     "slide_type": "slide"
    }
   },
   "source": [
    "Par un choix approprié d'un correcteur, la structure bouclée permet notamment de:\n",
    "\n",
    "- Stabiliser un système par nature instable.\n",
    "- Améliorer les performances du système en augmentant la\n",
    "rapidité et la précision de ses réponses.\n",
    "- Rendre les réponses peu sensibles aux effets incontrôlables des perturbations (ex: rafales de vent), ainsi qu'au variations paramétriques (ex: diminution de la masse d'un véhicules consécutive à la consommation de carburant)."
   ]
  },
  {
   "cell_type": "markdown",
   "metadata": {
    "slideshow": {
     "slide_type": "slide"
    }
   },
   "source": [
    "### Fonctions de transfert équivalentes\n",
    "Le cadre de la TL permet une analyse simple en terme de Fonction de transfert équivalente. Exemple:\n",
    "<center><img src=\"Figures/SB-KGH.svg\", width=\"40%\"/></center> \n",
    "Dans ce premier exemple, $Y(p)=K(p)G(p)\\,\\varepsilon(p)=K(p)G(p)(X(p)-H(p)Y(p))$, et par suite\n",
    "\n",
    "\\begin{equation*}\n",
    "Y(p)=\\frac{K(p)G(p)}{1+K(p)G(p)H(p)}X(p)\n",
    "\\end{equation*}\n",
    "\n",
    "On peut donc dire que le système bouclé est équivalent à un système de fonction de\n",
    "transfert $\\frac{KG}{1+KGH}$.\n",
    "\n",
    "Exemple: $H(p)=1$, $G(p)=\\frac{1}{p-1}$ (instable), $K(p)=2$ $\\rightarrow$ $W(p)=\\frac{2}{p+1}$ (stable)"
   ]
  },
  {
   "cell_type": "markdown",
   "metadata": {
    "slideshow": {
     "slide_type": "slide"
    }
   },
   "source": [
    "Dans l'exemple suivant, on ne peut plus parler de fonction de transfert unique, le système ayant deux entrées.\n",
    "\n",
    "<center><img src=\"Figures/SB-KGH-D.svg\", width=\"40%\"/></center> \n",
    "\n",
    "Cependant le calcul de la sortie fait bien apparaître deux fonctions de transfert équivalentes, l'une relative à l'entrée $x$ et l'autre à la perturbation $d$. On obtient en effet dans ce cas\n",
    "\n",
    "\\begin{eqnarray*}\n",
    "&&  Y(p)=\\underbrace{\\frac{K(p)G(p)}{1+K(p)G(p)H(p)}}_{W_X(p)}X(p)+\\underbrace{\\frac{G(p)}{1+K(p)G(p)H(p)}}_{W_D(p)}D(p)\n",
    "\\end{eqnarray*}\n",
    "\n",
    "$W_X$ et $W_D$ portent les noms respectifs de **transfert en poursuite** et **transfert en régulation**.\n",
    "\n"
   ]
  },
  {
   "cell_type": "markdown",
   "metadata": {
    "slideshow": {
     "slide_type": "slide"
    }
   },
   "source": [
    "Dans la phase de modélisation, la perturbation n'agit pas toujours en amont du système (comme précédemment). D'autres structures (ou comibnaisons) peuvent être considérées, comme les suivantes:\n",
    "\n",
    "<center><img src=\"Figures/SB-KG1-D2.svg\", width=\"40%\"/></center> \n",
    "\n",
    "<center><img src=\"Figures/SB-KG1-D3.svg\", width=\"44%\"/></center> \n",
    "\n",
    "La conception des lois de commande sera différente selon le schéma adopté."
   ]
  },
  {
   "cell_type": "markdown",
   "metadata": {
    "slideshow": {
     "slide_type": "slide"
    }
   },
   "source": [
    "### Stabilité\n",
    "Dans le cas d'une structure bouclée comme par exemple\n",
    "\n",
    "\\begin{equation*}\n",
    "\\frac{Y(p)}{X(p)}=\\frac{G(p)}{1+G(p)H(p)}%\n",
    "\\end{equation*}\n",
    "\n",
    "nous pourrons dire que le système sera stable Ssi les racines de l'équation $1+G(p)H(p)=0$ sont à partie réelle strictement négative. Comme indiqué précédemment, la stabilité peut s'étudier par:\n",
    "\n",
    "- Une approche géométrique (critère de Nyquist) où on étudie le comportement de la **boucle ouverte** $G(j\\omega)H(j\\omega)$ pour en déduire la stabilité en boucle fermée.\n",
    "- Une approche algébrique (critère de Routh) où on étudie\n",
    "directement le dénominateur de la fonction de transfert équivalente\n"
   ]
  },
  {
   "cell_type": "markdown",
   "metadata": {
    "slideshow": {
     "slide_type": "slide"
    }
   },
   "source": [
    "#### Exemple utilisant le crière de Routh: \n",
    "Pour étudier la stabilité en fonction du gain $k$ du système suivant (instable en boucle ouverte car pôle à l'origine):\n",
    "\n",
    "<center><img src=\"Figures/SB-Stab-Ex.svg\", width=\"40%\"/></center>\n",
    "\n",
    "La FT équivalente est donnée par $W=\\frac{KG}{1+KGH}=\\frac{k}{p^3+p^2+5p+k}$ et le crière de Routh appliqué au dénominateur donne (après calcul simple) $0\\leq k\\leq 30$\n"
   ]
  },
  {
   "cell_type": "markdown",
   "metadata": {
    "slideshow": {
     "slide_type": "slide"
    }
   },
   "source": [
    "### Précision \n",
    "On considère dans ce paragraphe (pour simplifier) des systèmes bouclés  supposés réduits au schéma bloc suivant (attention on supposera les schémas stables par ailleurs):<br><br>\n",
    "\n",
    "<center><img src=\"Figures/SB-KG1.svg\", width=\"40%\"/></center>\n",
    "\n",
    "On étudie ici l'erreur statique $\\varepsilon=y-x$ (i.e. en régime permanent) à des entrées tests (échelon $x_0/p$, rampe $x_0/p^2$, etc...). L'erreur exprimée après transformation de Laplace et l'application du théorème de la valeur finale \n",
    "fournissent:\n",
    "\n",
    "\\begin{equation*}\n",
    "\\varepsilon(p)=\\frac{1}{1+K(p)G(p)}X(p),\\qquad\\qquad\\varepsilon_{\\infty}%\n",
    "=\\lim_{p\\rightarrow0}\\frac{p}{1+K(p)G(p)}X(p)\n",
    "\\end{equation*}\n",
    "\n"
   ]
  },
  {
   "cell_type": "markdown",
   "metadata": {
    "slideshow": {
     "slide_type": "slide"
    }
   },
   "source": [
    "On réécrit $K(p)G(p)$ et $X(p)$ sous les formes suivantes montrant le nombre $\\alpha$ d'intégrateurs purs dans $KG$ et le type d'entrée ($\\beta=0$ pour échelon, 1 pour rampe,...)\n",
    "\n",
    "\\begin{equation*}\n",
    "K(p)G(p)=\\frac{k}{p^{\\alpha}}\\,\\frac{1+a_{1}p+...}{1+b_{1}p+....}\\qquad\\qquad X(p)=\\frac{x_0}{p^\\beta}\n",
    "\\end{equation*}\n",
    "\n",
    "On obtient alors\n",
    "\n",
    "\\begin{equation*}\n",
    "\\varepsilon_{\\infty}%\n",
    "=\\lim_{p\\rightarrow0}\\frac{p}{1+\\dfrac{k}{p^{\\alpha}}\\,\\dfrac{1+a_{1}p+...}{1+b_{1}p+....}}\\frac{x_0}{p^\\beta}=...\n",
    "\\end{equation*}\n",
    "\n",
    "L'erreur en fonction du nombre $\\alpha$ d'intégrateurs purs et du type d'entrée peut alors être résumé dans le tableau suivant (à faire à titre d'exercice)."
   ]
  },
  {
   "cell_type": "markdown",
   "metadata": {
    "slideshow": {
     "slide_type": "slide"
    }
   },
   "source": [
    "<br>\n",
    "<center> Erreur en régime permanent en fonction du nombre  𝛼  d'intégrateurs purs dans $K(p)G(p)$ et du type de consigne $X(p)$ (échelon, rampe) </center>\n",
    "\n",
    "<table width=90%>\n",
    "    <tr> \n",
    "        <td width=40%> \n",
    "        <table width=90%>\n",
    "    <tr> <td> </td><td style=\"border-width:1px; border-style:solid; \">$\\alpha=0$ </td><td style=\"border-width:1px; border-style:solid; \">$\\alpha=1$</td></tr>\n",
    "    <tr><td style=\"border-width:1px; border-style:solid; \">$\\beta=0$ (échelon)</td> <td style=\"border-width:1px; border-style:solid; \">$\\dfrac{x_0}{1+k}$ </td> <td style=\"border-width:1px; border-style:solid; \">$0$</td></tr>  \n",
    "      <tr><td style=\"border-width:1px; border-style:solid; \">$\\beta=1$ (rampe)</td> <td style=\"border-width:1px; border-style:solid; \">$\\infty$ </td> <td style=\"border-width:1px; border-style:solid; \">$\\dfrac{x_0}{k}$</td></tr>     \n",
    "</table>  </td>    \n",
    "        <td> <center> <img src=\"Figures/SB-precision.svg\", width=\"100%\"/></center></td>    \n",
    "    </tr>\n",
    "</table>  \n",
    "\n",
    "$\\rightarrow$ Pour une bonne précision en réponse à une entrée constante et une erreur finie en réponse à une rampe, il suffit que $K(p)$ ou $G(p)$ contienne (au moins) un intérateur pur. On peut vérifier (à faire) que le transfert équivalent $W=\\frac{KG}{1+KG}$ possède un gain statique unitaire $(W(0)=1)$."
   ]
  },
  {
   "cell_type": "markdown",
   "metadata": {
    "slideshow": {
     "slide_type": "slide"
    }
   },
   "source": [
    "### Action intégrale et Rejet de perturbations\n",
    "La même approche peut être utilisée pour étudier l'effet des perturbations (attention on supposera les schémas stables par ailleurs). On considère le cas précédent avec $H=1$.\n",
    "<center><img src=\"Figures/SB-KG1-D.svg\", width=\"40%\"/></center>\n",
    "\\begin{eqnarray*}\n",
    "  &&Y(p) = \\frac{K(p)G(p)}{1+K(p)G(p)}X(p)+\\frac{G(p)}{1+K(p)G(p)}D(p)=\n",
    "    W_X\\,X(p)+W_D\\,D(p)\n",
    "\\end{eqnarray*}\n",
    "\n",
    "Un comportement souhaitable serait d'avoir un gain statique en **poursuite unitaire** ($W_X(0)=1$, bonne précision) et un gain statique en **régulation nul** ($W_D(0)=1$, rejet de perturbation constante).\n",
    "\n",
    "On met en évidence les (éventuels) intégrateurs purs dans $K$ et $G$ en écrivant les transferts sous la forme suivante: $K(p)=\\frac{K_1(p)}{p^\\alpha} $,  $G(p)=\\frac{G1(p)}{p^\\beta}$, avec $K_1(0)=k$ et $G_1(0)=g$. On obtient (calcul  à faire)"
   ]
  },
  {
   "cell_type": "markdown",
   "metadata": {
    "slideshow": {
     "slide_type": "slide"
    }
   },
   "source": [
    "<br>\n",
    "<div style=\"float:left;width:50%;\">\n",
    "    <center> \n",
    "        \\begin{equation*}\n",
    "W_X(p)=\\frac{K_1(p)G_1(p)}{p^{\\alpha+\\beta}+K_1(p)G_1(p)}\n",
    "\\end{equation*}\n",
    "     <br> Gain statique en poursuite $W_X(0)$ \n",
    "    </center>\n",
    "  <table width=70%>\n",
    "    <tr> <td> </td><td style=\"border-width:1px; border-style:solid; \">$\\beta=0$ </td><td style=\"border-width:1px; border-style:solid; \">$\\beta\\geq 1$</td></tr>\n",
    "    <tr><td style=\"border-width:1px; border-style:solid; \">$\\alpha=0$</td> <td style=\"border-width:1px; border-style:solid; \">$\\dfrac{kg}{1+kg}$ </td> <td style=\"border-width:1px; border-style:solid; \">$1$</td></tr>  \n",
    "      <tr><td style=\"border-width:1px; border-style:solid; \">$\\alpha\\geq 1$</td> <td style=\"border-width:1px; border-style:solid; \">$1$ </td> <td style=\"border-width:1px; border-style:solid; \">$1$</td></tr>     \n",
    "</table>  \n",
    "</div> \n",
    "<div style=\"float:right;width:50%;\">\n",
    "    <center>\n",
    "        \\begin{equation*}\n",
    "W_D(p)=\\frac{p^{\\alpha} G_1(p)}{p^{\\alpha+\\beta}+ K_1(p)G_1(p)}\n",
    "\\end{equation*}\n",
    "        <br> Gain statique en régulation $W_D(0)$</center>\n",
    "    <table width=70%>\n",
    "    <tr> <td> </td><td style=\"border-width:1px; border-style:solid; \">$\\beta=0$ </td><td style=\"border-width:1px; border-style:solid; \">$\\beta\\geq 1$</td></tr>\n",
    "    <tr><td style=\"border-width:1px; border-style:solid; \">$\\alpha=0$</td> <td style=\"border-width:1px; border-style:solid; \">$\\dfrac{g}{1+kg}$ </td> <td style=\"border-width:1px; border-style:solid; \">$\\dfrac{1}{k}$</td></tr>  \n",
    "      <tr><td style=\"border-width:1px; border-style:solid; \">$\\alpha\\geq 1$</td> <td style=\"border-width:1px; border-style:solid; \">$0$ </td> <td style=\"border-width:1px; border-style:solid; \">$0$</td></tr>     \n",
    "</table>  \n",
    "</div> \n",
    "\n",
    "\n",
    "<div style=\"float:left;width:100%;padding: 1cm;\">\n",
    "</div> \n",
    "$\\rightarrow$ Pour avoir $W_X(0)=1$, et donc pour une bonne précision il suffit que $K$ ou $G$ possède un intégrateur pur ($\\alpha$ ou $\\beta\\geq 1$comme précédemment). <br><br>\n",
    "$\\rightarrow$ Pour avoir $W_D(0)=0$, et donc pour en plus rejeter une perturbation constante il faut que cet intégrateur soit sur $K(p)$ , càd <strong>en amont de la perturbation</strong>"
   ]
  },
  {
   "cell_type": "markdown",
   "metadata": {
    "slideshow": {
     "slide_type": "slide"
    }
   },
   "source": [
    "### Illustration\n",
    "$G(p)=\\dfrac{1}{p+1}$, une consigne $x(t)$ d'amplitude 15 et une perturbation $d(t)$ de -10 à $t=5$, avec les correcteurs suivants: \n",
    "- (a) correcteur Proportionnel (P) avec $K(p)=4$. Pas d'intégrateur pur ni dans $K$ ni dans $G$<br>\n",
    "- (b) correcteur Proportionnel+ Intégral (PI) avec $K(p)=3 + \\frac{15}{p}$. (a) un intégrateur $\\rightarrow$ bonne précision en poursuite; (b) intégrateur en ammont de $G(p)$ $\\rightarrow$ la perturbation constante est rejetée\n",
    "<br><br>\n",
    "<table width=90%>\n",
    "    <tr><td width=50%><center><img src=\"Figures/SB-KG1-D.svg\", width=\"90%\"/><img></center>  </td>\n",
    "        <td width=50%><center><img src=\"Figures/SB-precision-Illustration.svg\", width=\"80%\"/></center> </td>\n",
    "    </tr>    \n",
    "</table>    "
   ]
  }
 ],
 "metadata": {
  "celltoolbar": "Diaporama",
  "kernelspec": {
   "display_name": "Python 3",
   "language": "python",
   "name": "python3"
  },
  "language_info": {
   "codemirror_mode": {
    "name": "ipython",
    "version": 3
   },
   "file_extension": ".py",
   "mimetype": "text/x-python",
   "name": "python",
   "nbconvert_exporter": "python",
   "pygments_lexer": "ipython3",
   "version": "3.7.6"
  },
  "latex_envs": {
   "LaTeX_envs_menu_present": true,
   "autoclose": false,
   "autocomplete": true,
   "bibliofile": "biblio.bib",
   "cite_by": "apalike",
   "current_citInitial": 1,
   "eqLabelWithNumbers": true,
   "eqNumInitial": 1,
   "hotkeys": {
    "equation": "Ctrl-E",
    "itemize": "Ctrl-I"
   },
   "labels_anchors": false,
   "latex_user_defs": false,
   "report_style_numbering": false,
   "user_envs_cfg": false
  }
 },
 "nbformat": 4,
 "nbformat_minor": 4
}
