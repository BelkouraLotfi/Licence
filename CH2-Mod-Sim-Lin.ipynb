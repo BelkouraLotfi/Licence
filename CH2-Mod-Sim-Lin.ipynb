{
 "cells": [
  {
   "cell_type": "markdown",
   "metadata": {
    "slideshow": {
     "slide_type": "slide"
    }
   },
   "source": [
    "<h2 align=\"center\"> Modélisation</h2>\n",
    "<h2 align=\"center\"> Simulation</h2>\n",
    "<h2 align=\"center\"> Linéarisation</h2>"
   ]
  },
  {
   "cell_type": "markdown",
   "metadata": {
    "slideshow": {
     "slide_type": "slide"
    }
   },
   "source": [
    "##  Modélisation\n",
    "Le calcul de lois de commande appropriées nécessite une connaisance (plus ou moins précise) du système que nous souhaitons contrôler. C'est l'objet de la modélisation:\n",
    "\n",
    "\n",
    "<center style='background:#DCDCDC'>Obtenir un modèle mathématique traduisant (au mieux) la réalité du processus physique</center>\n",
    "\n",
    "Ce modèle s'obtient souvent à partir des lois et principes fondamentaux de la physique parmi lesquels on peut citer:\n",
    "- Les principes de la thermodynamique (conservation de la masse et de l'énergie)\n",
    "- Le principe fondamental de la dynamique et les lois de Newton (comme par exemple la relation bien connue $\\Sigma F=m\\gamma$ )\n",
    "- Les lois sur les circuits électriques (loi des mailles et des noeuds)..."
   ]
  },
  {
   "cell_type": "markdown",
   "metadata": {
    "slideshow": {
     "slide_type": "slide"
    }
   },
   "source": [
    "### Ex: Vitesse d'un véhicule\n",
    "\n",
    "<p style=\"font-size:smaller\">$m$: masse du véhicule, $\\rho$: densité de l'air, $C_v$: coeff trainée, $C_u$: coeff poussée, $A$ section du véhicule, $g$: coeff gravité.</p>\n",
    "\n",
    "En 1ère approximation, un véhicule à une vitesse $v(t)$ est soumis à une force de poussée $F_u(t)=C_u u(t)$ ($u\\approx$ % postion accélérateur), une force de résistance due aux frottements de l'air $F_a(t)=\\frac{1}{2} \\rho A C_v v^2(t)$ , et une force due à la pente de la route $F_g(t)=mg\\sin\\theta(t)$. Les lois de la dynamique $m \\frac{dv}{dt}=\\sum F $ donnent ainsi (modèle non linéaire):<br><br>\n",
    "\\begin{equation*}\n",
    "m\\dot v(t)=C_u\\,u(t)-\\textstyle\\frac{1}{2} \\rho A C_v v^2(t)-mg\\sin\\theta(t)\n",
    "\\end{equation*}<br>\n",
    "<center><img src=\"Figures/RegulVitesse.svg\" width=\"70%\"/></center>\n"
   ]
  },
  {
   "cell_type": "markdown",
   "metadata": {
    "slideshow": {
     "slide_type": "slide"
    }
   },
   "source": [
    "### Ex: Suspension magnétique\n",
    "L'objectif de cette application est de contrôler la position $x$ de la balle par action sur la tension $V$. La balle est soumise aux forces de son poids $F_g=mg$ et à une force d'attraction de la bobine $F_a=K i^2/(2 x^2)$. La modélisation fait apparaître une équation éléctrique et une mécanique.\n",
    "<table width=\"80%\">\n",
    "<tr><td width=\"60%\"> <center><img src=\"Figures/MagLevFig.svg\" alt=\"Drawing\" style=\"width:50%;\"/></center> </td>\n",
    "    <td>  \n",
    "    \\begin{align*}\n",
    "V&=Ri+L\\dfrac{di}{dt}\\\\\n",
    "m\\ddot x&=K \\dfrac{i^2}{2 x^2}-mg\n",
    "\\end{align*}\n",
    "    </td>\n",
    "    </tr>\n",
    "</table>  \n",
    "\n",
    "C'est un système instable, avec relation linéaire entre $V$ et $i$, mais non linéaire entre $i$ et $x$."
   ]
  },
  {
   "cell_type": "markdown",
   "metadata": {
    "slideshow": {
     "slide_type": "slide"
    }
   },
   "source": [
    "### Ex: trajectoire d'une véhicule\n",
    "Dans cet exemple (pilotage automatique, stationnement), on s'intéresse au déplacement d'un véhicule [position $(x,y)$ et orientation $\\theta$]  par action sur sa vitesse $u_v$ et l'angle de braquage des roues $u_\\phi$\n",
    "\n",
    "<table width=\"80%\">\n",
    "<tr><td width=\"60%\"> <center><img src=\"Figures/CarSteering.svg\" alt=\"Drawing\" style=\"width: 75%;transform: rotate(-15deg); \"/>\n",
    "</center> </td>\n",
    "    <td>  \n",
    "    \\begin{align*}\n",
    "    \\dot x&=u_v \\cos \\theta\\\\\n",
    "    \\dot y&=u_v \\sin \\theta\\\\   \n",
    "    \\dot \\theta&=\\frac{u_v}{L} \\tan u_\\phi\n",
    "\\end{align*} \n",
    "    </td>\n",
    "    </tr>\n",
    "</table>  \n",
    "\n",
    "Le système est de plus soumis à une contrainte (non holonome) $\\dot y \\cos \\theta-\\dot x \\sin \\theta=0$"
   ]
  },
  {
   "cell_type": "markdown",
   "metadata": {
    "slideshow": {
     "slide_type": "slide"
    }
   },
   "source": [
    "### Ex: Spatial\n",
    "Les commandes et les perturbations sont décomposées en composantes radiale et\n",
    "tangentielle notées $u=(u_r,u_\\theta)^t$ et\n",
    "$d=(d_r,d_\\theta)^t$.\n",
    "L'orbite souhaitée étant géostationnaire, on utilise *l'angle apparent*\n",
    "définit par $\\phi(t)=\\theta(t)-\\Omega t$ ($\\Omega$= vitesse de rotation de la terre). L'objectif est le maintien de $r(t)$ et $\\phi(t)$ à des valeurs constantes. \n",
    "\n",
    "<table width=\"80%\">\n",
    "<tr><td width=\"40%\"> <center><img src=\"Figures/Terre-lune-vf.svg\" alt=\"Drawing\" style=\"width: 85%;\"/>\n",
    "</center> </td>\n",
    "    <td>  \n",
    "    \\begin{align*}\n",
    "    \\dfrac{d^2r}{dt^2}&=r\\,(\\frac{d\\phi}{dt}+\\Omega)^2-\\frac{k}{r^2}+\\frac{u_r+d_r}{m}\\\\\n",
    "    \\dfrac{d^2\\phi}{dt^2}&=-\\frac{2\\frac{dr}{dt}(\\frac{d\\phi}{dt}+\\Omega)^2}{r}+\\frac{u_\\theta+d_\\theta}{r.m}\\\\\n",
    "\\end{align*}\n",
    "    </td>\n",
    "    </tr>\n",
    "    \n",
    "</table>  "
   ]
  },
  {
   "cell_type": "markdown",
   "metadata": {
    "slideshow": {
     "slide_type": "slide"
    }
   },
   "source": [
    "### Ex: Aéronautique \n",
    "Les principes fondamentaux de la dynamique peuvent aussi conduire à des équations plus complexes.\n",
    "\n",
    "<table>\n",
    "<tr><td width=\"40%\"> <center><img src=\"Figures/GraphiqueAvion.png\" alt=\"Drawing\" style=\"width: 80%;\"/>\n",
    "</center> </td>\n",
    "    <td>  \n",
    "    Cet exemple multivariable, où $X$, $Z$ et $M$ sont les forces et moments aérodynamiques, \n",
    "    montre un comportement non linéaire des grandeurs ($V$, $\\alpha$, $\\theta$ et $q$) à contrôler.\n",
    "    </td>\n",
    "    </tr>\n",
    "    <tr><td colspan=2>\\begin{align*}\n",
    "m[\\dot{V}\\cos(\\alpha)-V\\dot{\\alpha}\\sin(\\alpha)+V\\sin(\\alpha)q]\n",
    "  &= X-mg\\sin(\\theta)  \\\\\n",
    "  m[\\dot{V}\\sin(\\alpha)+V\\dot{\\alpha}\\cos(\\alpha)-V\\cos(\\alpha)q]\n",
    "  &= Z+mg\\cos(\\theta)  \\\\\n",
    "  B \\dot{q} &= M \\\\\n",
    "  \\dot{\\Theta}&=q\n",
    "\\end{align*}   </td>   </tr>\n",
    "</table>  \n",
    "\n",
    "\n",
    "Note: les coefficients aérodynamiques dépendent eux-même des entrées et sorties."
   ]
  },
  {
   "cell_type": "markdown",
   "metadata": {
    "slideshow": {
     "slide_type": "slide"
    }
   },
   "source": [
    "**Classification:** L'ensemble des exemples précédents montre des systèmes décrits par des équations différentielles ordinaires (EDO). Par complexité croissante, on distingue différents cas d'EDO:\n",
    "- Equations linéaires stationnaires, ex: &nbsp;&nbsp;&nbsp;&nbsp;&nbsp;$\\quad \\dot y+ 2y =u$\n",
    "- Equations linéaires non stationnaires, ex: &nbsp;&nbsp;&nbsp;&nbsp;&nbsp;$\\dot y+ 2t\\,y =u$\n",
    "- Equations non linéaires stationnaires, ex: &nbsp;&nbsp;&nbsp;&nbsp;&nbsp;$\\dot y+ 2y^2 =\\cos u$\n",
    "- Equations non linéaires non stationnaires, ex: &nbsp;&nbsp;&nbsp;&nbsp;&nbsp;$(\\dot y)^2+ 2t\\,y =u$\n",
    "\n",
    "D'autres situations peuvent être rencontrées dans la pratique, comme par exemple:\n",
    "- Les systèmes décrits par des équations de récurrence (systèmes discrets),ex:&nbsp;&nbsp;$y_{k+1}=2y{_k}+u_k$\n",
    "- Les systèmes à retards, ex: &nbsp;&nbsp;&nbsp;$\\quad \\dot y(t)+ 2y(t-4) =u(t)$\n",
    "- Les systèmes décrits par des équations aux dérivées partielles (EDP),\n",
    "- etc.\n"
   ]
  },
  {
   "cell_type": "markdown",
   "metadata": {
    "slideshow": {
     "slide_type": "slide"
    }
   },
   "source": [
    "## Simulation\n",
    "Pour une entrée $u(t)$ donnée, la connaissance du modèle (Equa-diff) permet de pédire le comportement du système. Lorsque l'entrée est complexe ou le système non linéaire, la résolution de l'EDO est complexe. On a alors recours à de la simulation\n",
    "\n",
    "Il existe de nombreux logiciels et langages (dédiés ou non) permettant de résoudre numeriquement l'EDO étudiée (Matlab, Octave, Langage C, Python,...). \n",
    "\n",
    "L'exemple qui suit est traité en langage Python sur le modèle de voiture précédent:\n",
    "\n",
    "\\begin{equation*}\n",
    "m\\dot v(t)=C_u\\,u(t)-\\textstyle\\frac{1}{2} \\rho A C_v v^2(t)-mg\\sin\\theta(t)\n",
    "\\end{equation*}\n",
    "\n",
    "<p style=\"font-size:smaller\">Paramètres: $m=1000 kg$, $\\rho=0.225 kg/m^3$, $C_v=0.4$, $C_u=30$, $A=2.5m^2$, $g=9.81 m.s^{-2}$.</p>"
   ]
  },
  {
   "cell_type": "code",
   "execution_count": 1,
   "metadata": {
    "code_folding": [],
    "hide_input": false,
    "scrolled": false,
    "slideshow": {
     "slide_type": "slide"
    }
   },
   "outputs": [
    {
     "data": {
      "application/vnd.jupyter.widget-view+json": {
       "model_id": "a92ab4aadba0460280e6eb543b47f264",
       "version_major": 2,
       "version_minor": 0
      },
      "text/plain": [
       "VBox(children=(Figure(axes=[Axis(scale=LinearScale()), Axis(orientation='vertical', scale=LinearScale())], fig…"
      ]
     },
     "metadata": {},
     "output_type": "display_data"
    }
   ],
   "source": [
    "from scipy.integrate import solve_ivp                      # fonction solve_ivp pour equa diff\n",
    "from bqplot import pyplot as plt                           # module plt pour affihage\n",
    "import numpy as np                                         # module np pour calcul numérique\n",
    "\n",
    "m, rho, C_v, C_u, A, g = 1000, 1.225, 0.4, 30, 2.5, 9.81     # paramètres du véhicule\n",
    "tps = np.linspace(0, 100, 500)                               # temps de simulation\n",
    "cmde = [0 if x <= 10 else 20 for x in tps]                   # commande 20% pour t>10s\n",
    "pente= [0 if x <= 70 else 3 for x in tps]                    # pente de 3deg pour t>70\n",
    "\n",
    "def second_membre_nl(t, v):                          # 2nd membre de l'équa-diff dv/dt=....\n",
    "    u=cmde[np.abs(tps - t).argmin()]\n",
    "    theta=pente[np.abs(tps - t).argmin()]\n",
    "    return (1/m)*(C_u*u-0.5*rho*A*C_v*v**2-g*m*np.sin(theta*np.pi/180))\n",
    "\n",
    "#résolution de l'équa-diff entre 0 et 100s avec vitesse initiale (CI) de 25m/s (90km/h)\n",
    "sol_nl = solve_ivp(second_membre_nl,[0, 100],[25],t_eval=tps,rtol= 1e-5) \n",
    "\n",
    "fig=plt.figure(title='Vitesse véhicule / Commande accélérateur /pente')\n",
    "fig.layout.width = '90%' #fig.layout.width = '600px'\n",
    "plt.plot(tps,sol_nl.y,'b'),plt.plot(tps,cmde,'k'),plt.plot(tps,pente,'r', line_style = 'dashed')\n",
    "plt.show()"
   ]
  },
  {
   "cell_type": "markdown",
   "metadata": {
    "slideshow": {
     "slide_type": "slide"
    }
   },
   "source": [
    "## Systèmes non linéaires et linéarisation\n",
    "Les systèmes non linéaires sont en général difficiles à analyser $\\rightarrow$ on linéarise lorsque possible, càd on remplace\n",
    "\n",
    "\\begin{align*}\n",
    "\\dot{x}  & =f(x,u)\\qquad\\textrm{par    }\\quad\\quad \\dot{\\tilde{x}}\\approx a\\tilde{x}+b\\tilde{u}\n",
    "\\end{align*}\n",
    "Supposons qu'il existe une trajectoire d'équilibre, i.e. un couple $x_{e}(t)$ et $u_{e}(t)$ qui vérifie:\n",
    "\n",
    "\\begin{align*}\n",
    "\\dot{x}_{e}  & =f(x_{e},u_{e})\n",
    "\\end{align*}\n",
    "Si $x(t)$ et $u(t)$ restent voisins de $x_{e}(t)$, $u_{e}(t)$, un développement de Taylor au 1er ordre fournit:\n",
    "\n",
    "\\begin{align*}\n",
    "\\dot{x}  & \\approx f(x_{e},u_{e})+\\left(\\dfrac{\\partial f}{\\partial x}\\right) _{\\left|\\substack{x=x_e \\\\ u=u_e}\\right.} (x-x_{e})+\\left(\\dfrac{\\partial f}{\\partial u}\\right) _{\\left|\\substack{x=x_e \\\\ u=u_e}\\right.} (u-u_{e})\n",
    "\\end{align*}\n",
    "En notant les écarts $\\tilde{x}=x-x_{e}$ $\\tilde{u}=u-u_{e}$, il vient l'approximation linéaire:\n",
    "\n",
    "\\begin{equation*}\n",
    "\\fbox{$\\left.\n",
    "\\begin{array}\n",
    "[c]{l}%\n",
    "\\dot{\\tilde{x}}  \\approx a\\tilde{x}+b\\tilde{u}\\qquad\\text{avec }a=\\left(\\textstyle\\frac {\\partial f}{\\partial x}\\right)_{\\left|\\substack{x=x_e \\\\ u=u_e}\\right.}\\quad\\quad b=\\left(\\textstyle\\frac {\\partial f}{\\partial u}\\right)_{\\left|\\substack{x=x_e \\\\ u=u_e}\\right.}\n",
    "\\end{array}\n",
    "\\right.  $}%\n",
    "\\end{equation*}"
   ]
  },
  {
   "cell_type": "markdown",
   "metadata": {
    "slideshow": {
     "slide_type": "slide"
    }
   },
   "source": [
    "### Exemple du modèle en vitesse d'un véhicule\n",
    "Avec $K_u=C_u/m$, et $K_v=\\frac{1}{2}\\rho A C_v/m$, il est plus simple de réécrire\n",
    "\n",
    "\\begin{equation*}\\dot v(t)=f(v,u,\\theta)= K_u\\,u(t)-K_v v^2(t)-g\\sin\\theta(t)\\quad\\quad (*)\\end{equation*}\n",
    "\n",
    "**1/ Recherche d'une solution d'équilibre**: on recherche souvent des trajectoires constantes, $v_e=cte$ ($\\rightarrow\\dot v_e=0$), $u_e=cte$. Si on se place sur le plat ($\\theta_e=0$), il vient\n",
    "\n",
    "\\begin{equation*}0= K_u\\,u_e-K_v v_e^2\\quad\\rightarrow \\quad u_e=K_vv_e^{2}/K_u\n",
    "\\end{equation*}\n",
    "\n",
    "$\\rightarrow$ pour toute vitesse constante $v_e$ il existe une commande constante $u_e$ telle que $(v_e,u_e,(\\theta_e=0))$ soit solution de $(*)$\n",
    "\n",
    "Application numérique: pour $v_e=25m/s=90km/h$, on obtient $u_e=12.76 \\%$"
   ]
  },
  {
   "cell_type": "markdown",
   "metadata": {
    "slideshow": {
     "slide_type": "slide"
    }
   },
   "source": [
    "### Exemple du modèle en vitesse d'un véhicule (suite)\n",
    "\n",
    "\\begin{equation*}\\dot v(t)=f(v,u,\\theta)= K_u\\,u(t)-K_v v^2(t)-g\\sin\\theta(t)\\quad\\quad (*)\\end{equation*}\n",
    "\n",
    "**2/ Linéarisation**: on a les dérivées partielles: \n",
    "\n",
    "\\begin{equation*}\\begin{array} \n",
    "aa=\\left(\\textstyle\\frac {\\partial f}{\\partial v}\\right)_{\\left|_e\\right.}=-2K_vv_e, & \n",
    "b=\\left(\\textstyle\\frac {\\partial f}{\\partial u}\\right)_{\\left|_e\\right.}=K_u, & \n",
    "c=\\left(\\textstyle\\frac {\\partial f}{\\partial \\theta}\\right)_{\\left|_e\\right.}=-g \\cos \\theta_e=-g\n",
    "\\end{array}\\end{equation*}\n",
    "\n",
    "et par suite le modèle linéaire (avec $\\tilde{v}=v-v_e$, $\\tilde{u}=u-u_e$, $\\tilde{\\theta}=\\theta$)\n",
    "\n",
    "\\begin{equation*}\n",
    "\\dot {\\tilde{v}}(t)=(K_u)\\,\\tilde{u}(t)-(2K_vv_e)\\,\\tilde{v}(t)-(g)\\,\\tilde{\\theta}(t)\n",
    "\\end{equation*}\n",
    "\n",
    "Application numérique: modèles non linéaire et linéarisé autour de $(v_e,u_e)$=(90km/h,12.76%): \n",
    "\n",
    "\\begin{align*}\n",
    "\\dot v(t)&=0.03\\,u(t)-6.125\\,\\, 10^{-4} v^2(t)-9.81\\sin\\theta(t)\\\\\n",
    "\\dot {\\tilde{v}}(t)&=0.03\\,\\tilde{u}(t)-0.0306\\,\\tilde{v}(t)-9.81\\,\\tilde{\\theta}(t)\n",
    "\\end{align*}"
   ]
  },
  {
   "cell_type": "markdown",
   "metadata": {
    "slideshow": {
     "slide_type": "slide"
    }
   },
   "source": [
    "#### Comparaison en simulation des réponses des modèles linéaire et non linéaire"
   ]
  },
  {
   "cell_type": "code",
   "execution_count": 2,
   "metadata": {
    "hide_input": true,
    "scrolled": false,
    "slideshow": {
     "slide_type": "fragment"
    }
   },
   "outputs": [
    {
     "data": {
      "application/vnd.jupyter.widget-view+json": {
       "model_id": "3b8ee16bd6e14c129a6e601db8e63968",
       "version_major": 2,
       "version_minor": 0
      },
      "text/plain": [
       "AppLayout(children=(interactive(children=(FloatSlider(value=5.0, description='Accélération', max=25.0, orienta…"
      ]
     },
     "metadata": {},
     "output_type": "display_data"
    }
   ],
   "source": [
    "import numpy as np\n",
    "from bqplot import pyplot as plt\n",
    "from bqplot import *\n",
    "from IPython.display import display\n",
    "from ipywidgets import interactive, fixed, FloatSlider, HBox, Layout\n",
    "#from control.matlab import *  # MATLAB-like functions\n",
    "from ipywidgets import GridspecLayout, AppLayout\n",
    "from scipy.integrate import solve_ivp                      # fonction solve_ivp pour equa diff\n",
    "\n",
    "\n",
    "m, rho, C_v, C_u, A, g = 1000, 1.225, 0.4, 30, 2.5, 9.81     # paramètres du véhicule\n",
    "K_u, K_v =C_u/m, rho*A*C_v/(2*m)\n",
    "v_e = 25\n",
    "u_e = K_v*v_e**2/K_u\n",
    "\n",
    "tps = np.linspace(0, 100, 200)   \n",
    "\n",
    "x_sc = LinearScale(min=0, max=tps[-1]) \n",
    "\n",
    "y_sc = LinearScale(min=80, max=140) \n",
    "y_sc2 = LinearScale(min=0, max=60) \n",
    "\n",
    "line1 = Lines(x=tps, y=0*tps, scales={'x': x_sc, 'y': y_sc},\n",
    "             stroke_width=3, colors=['red'], display_legend=True, labels=['vit. modèle Non linéaire'])\n",
    "line2 = Lines(x=tps, y=0*tps, scales={'x': x_sc, 'y': y_sc},\n",
    "             stroke_width=3, colors=['blue'], display_legend=True, labels=['vit. modèle Linéaire'])\n",
    "line3 = Lines(x=tps, y=0*tps, scales={'x': x_sc, 'y': y_sc2},\n",
    "             stroke_width=3, colors=['black'], display_legend=True, labels=['Commande'])\n",
    "\n",
    "ax1_x = Axis(scale=x_sc, grid_lines='solid', label='temps(s)')\n",
    "ax1_y = Axis(scale=y_sc, orientation='vertical', tick_format='0.0f',  grid_lines='solid', \n",
    "             label='Vitesse (km/h)')\n",
    "ax2_y = Axis(scale=y_sc2, orientation='vertical', side='right',tick_format='0.0f',  \n",
    "             grid_lines='solid', label='Commande (%)')\n",
    "\n",
    "\n",
    "Fig1= Figure(marks=[line1,line2,line3], axes=[ax1_x, ax1_y,ax2_y],  \n",
    "             title='Comparaison modèles linéaire et non linéaire (sur le plat)', \n",
    "             legend_location='top-right')\n",
    "\n",
    " \n",
    "def update_plot(u_max,t_sw):\n",
    "    \n",
    "    cmde_tld = [0 if x <= 10 else u_max if x<=t_sw else 0 for x in tps]                \n",
    "    pente= [0 if x <= 30 else 0 for x in tps]  \n",
    "    \n",
    "    def second_membre_nl(t, v):                     # 2nd membre de l'équa-diff dv/dt=....\n",
    "        u=u_e+cmde_tld[np.abs(tps - t).argmin()]\n",
    "        theta=pente[np.abs(tps - t).argmin()]\n",
    "        return (1/m)*(C_u*u-0.5*rho*A*C_v*v**2-g*m*np.sin(theta*np.pi/180))\n",
    "\n",
    "    def second_membre_lin(t, v):                # 2nd membre de l'équa-diff dv/dt=....\n",
    "        u=cmde_tld[np.abs(tps - t).argmin()]\n",
    "        theta=pente[np.abs(tps - t).argmin()]\n",
    "        return K_u*u-2*K_v*v_e*v-g*theta*np.pi/180 #np.sin(theta*np.pi/180)   \n",
    "    \n",
    "    sol_nl = solve_ivp(second_membre_nl,[0, tps[-1]],[v_e],t_eval=tps,rtol= 1e-5) \n",
    "    sol_lin = solve_ivp(second_membre_lin,[0, tps[-1]],[0],t_eval=tps,rtol= 1e-5)\n",
    "    \n",
    "    line1.x, line1.y = tps,sol_nl.y*3.6\n",
    "    line2.x, line2.y = tps,(v_e+sol_lin.y)*3.6\n",
    "    line3.x, line3.y = tps,[x+u_e for x in cmde_tld]\n",
    "    \n",
    "w = interactive(update_plot, \n",
    "             u_max=FloatSlider(min=0, max=25, step=1,value=5, orientation='vertical', \n",
    "                           description='Accélération'),\n",
    "             t_sw=FloatSlider(min=10, max=100, step=2,value=50, orientation='vertical',\n",
    "                           description='Durée')) \n",
    "AppLayout(header=None,\n",
    "          left_sidebar=w,\n",
    "          center=Fig1,\n",
    "          right_sidebar=None,\n",
    "          footer=None,\n",
    "          pane_widths=[1,5, 5],\n",
    "          pane_heights=[1, 1, 1],\n",
    "          align_items='center',\n",
    "          border='solid')\n"
   ]
  },
  {
   "cell_type": "code",
   "execution_count": 3,
   "metadata": {
    "hide_input": true,
    "scrolled": true,
    "slideshow": {
     "slide_type": "skip"
    }
   },
   "outputs": [
    {
     "name": "stdout",
     "output_type": "stream",
     "text": [
      "K_u=  0.03000   K_v=  0.000613    2K_v v_e=  0.030625\n"
     ]
    }
   ],
   "source": [
    "print('K_u=','% 7.5f' % K_u, '  K_v=','% 7.6f' % K_v,'   2K_v v_e=','% 7.6f' % (2*K_v*v_e))"
   ]
  },
  {
   "cell_type": "markdown",
   "metadata": {
    "slideshow": {
     "slide_type": "fragment"
    }
   },
   "source": [
    "Ce genre de simulation est important car il permet d'estimer les limites de validité du modèle linéarisé "
   ]
  },
  {
   "cell_type": "markdown",
   "metadata": {
    "slideshow": {
     "slide_type": "slide"
    }
   },
   "source": [
    "### Complément\n",
    "\n",
    "Il existe également des fonctions qui permettent le calcul numérique de solutions d'équilibre ainsi que des dérivées partielles. Ces dernières peuvent aussi être obtenues par des outils de calcul symbolique. "
   ]
  },
  {
   "cell_type": "code",
   "execution_count": 4,
   "metadata": {
    "scrolled": true,
    "slideshow": {
     "slide_type": "fragment"
    }
   },
   "outputs": [
    {
     "name": "stdout",
     "output_type": "stream",
     "text": [
      "Résultats du calcul symbolique:\n",
      "u_e à l équilibre            = A*C_v*rho*v**2/(2*Cu)\n",
      "derivée du rhs par rapp à u  = Cu/m\n",
      "derivée du rhs par rapp à v  = -A*C_v*rho*v/m\n",
      "\n"
     ]
    }
   ],
   "source": [
    "import sympy as sp                                          # Module de calcul symbolique   \n",
    "\n",
    "v_s,u_s = sp.symbols(['v','u'])                            # on définit toute les variables symboliques \n",
    "C_us,rho_s,C_vs,A_s,m_s = sp.symbols(['Cu','rho','C_v','A','m'])\n",
    "\n",
    "rhs = C_us*u_s/m_s - rho_s*A_s*C_vs*v_s**2/(2*m_s)         # 2nd membre de l'équatin dv/dt=....\n",
    "\n",
    "u_eqs=sp.solveset(rhs, u_s)                                # solution u_e à l'équilibre      \n",
    "deriv_us = sp.diff(rhs,u_s)                                # dérivée partielle par rapport à u  \n",
    "deriv_vs = sp.diff(rhs,v_s)                                # dérivée partielle par rapport à v  \n",
    "\n",
    "print('Résultats du calcul symbolique:')\n",
    "print('u_e à l équilibre            =',u_eqs.args[0])\n",
    "print('derivée du rhs par rapp à u  =',deriv_us)\n",
    "print('derivée du rhs par rapp à v  =',deriv_vs)\n",
    "print('')\n",
    "\n"
   ]
  },
  {
   "cell_type": "markdown",
   "metadata": {
    "slideshow": {
     "slide_type": "slide"
    }
   },
   "source": [
    "#### Substitution par les valeurs numériques du modèle étudié"
   ]
  },
  {
   "cell_type": "code",
   "execution_count": 5,
   "metadata": {
    "scrolled": true,
    "slideshow": {
     "slide_type": "fragment"
    }
   },
   "outputs": [
    {
     "name": "stdout",
     "output_type": "stream",
     "text": [
      "Substitution par les valeurs numériques\n",
      "u_e à l équilibre                =  12.76042\n",
      "derivée du rhs par rapp à u      =  0.030000\n",
      "derivée du rhs par rapp à v      = -0.030625\n"
     ]
    }
   ],
   "source": [
    "m, rho, C_v, C_u, A, g = 1000, 1.225, 0.4, 30, 2.5, 9.81     # valeurs numériques du véhicule\n",
    "\n",
    "u_eq= u_eqs.subs(v_s, 25).subs(C_us, C_u).subs(rho_s, rho).subs(C_vs, C_v).subs(A_s, A).subs(m_s, m)\n",
    "deriv_u= deriv_us.subs(C_us, C_u).subs(m_s, m)\n",
    "deriv_v= deriv_vs.subs(v_s, 25).subs(rho_s, rho).subs(C_vs, C_v).subs(A_s, A).subs(m_s, m)\n",
    "\n",
    "print('Substitution par les valeurs numériques')\n",
    "print('u_e à l équilibre                =','% 7.5f' % u_eq.args[0] )\n",
    "print('derivée du rhs par rapp à u      =','% 7.6f' % deriv_u)\n",
    "print('derivée du rhs par rapp à v      =','% 7.6f' % deriv_v)"
   ]
  },
  {
   "cell_type": "code",
   "execution_count": null,
   "metadata": {
    "scrolled": true,
    "slideshow": {
     "slide_type": "skip"
    }
   },
   "outputs": [],
   "source": []
  }
 ],
 "metadata": {
  "author": "v",
  "celltoolbar": "Diaporama",
  "hide_input": false,
  "kernelspec": {
   "display_name": "Python 3",
   "language": "python",
   "name": "python3"
  },
  "language_info": {
   "codemirror_mode": {
    "name": "ipython",
    "version": 3
   },
   "file_extension": ".py",
   "mimetype": "text/x-python",
   "name": "python",
   "nbconvert_exporter": "python",
   "pygments_lexer": "ipython3",
   "version": "3.7.6"
  },
  "latex_envs": {
   "LaTeX_envs_menu_present": true,
   "autoclose": false,
   "autocomplete": true,
   "bibliofile": "biblio.bib",
   "cite_by": "apalike",
   "current_citInitial": 1,
   "eqLabelWithNumbers": true,
   "eqNumInitial": 1,
   "hotkeys": {
    "equation": "Ctrl-E",
    "itemize": "Ctrl-I"
   },
   "labels_anchors": false,
   "latex_user_defs": false,
   "report_style_numbering": false,
   "user_envs_cfg": false
  },
  "widgets": {
   "application/vnd.jupyter.widget-state+json": {
    "state": {
     "05d29e08177e421e8620f64b9c6b468f": {
      "model_module": "@jupyter-widgets/output",
      "model_module_version": "1.0.0",
      "model_name": "OutputModel",
      "state": {
       "layout": "IPY_MODEL_8ec6866da16641b5af88dead90a33bb3"
      }
     },
     "0fc9fb6c83984f7c95a434b00824e5d5": {
      "model_module": "@jupyter-widgets/controls",
      "model_module_version": "1.5.0",
      "model_name": "SliderStyleModel",
      "state": {
       "description_width": ""
      }
     },
     "134145b391e2477d81e3655d5f066654": {
      "model_module": "@jupyter-widgets/base",
      "model_module_version": "1.2.0",
      "model_name": "LayoutModel",
      "state": {}
     },
     "157ad835141c48bf987c285120a5346f": {
      "buffers": [
       {
        "data": "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",
        "encoding": "base64",
        "path": [
         "x",
         "value"
        ]
       },
       {
        "data": "AAAAAAAAAAAAAAAAAAAAAAAAAAAAAAAAAAAAAAAAAAAAAAAAAAAAAAAAAAAAAAAAAAAAAAAAAAAAAAAAAAAAAAAAAAAAAAAAAAAAAAAAAAAAAAAAAAAAAAAAAAAAAAAAAAAAAAAAAAAAAAAAAAAAAAAAAAAAAAAAAAAAAAAAAAAAAAAAAAAAAAAAAAAAAAAAAAAAAAAAAAAAAAAAAAAAAAAAAAAAAAAAAAAAAAAAAAAAAAAAAAAAAAAAAAAAAAAAAAAAAAAAAAAAAAAAAAAAAAAAAAAAAAAAAAAAAAAAAAAAAAAAAAAAAAAAAAAAAAAAAAAAAAAAAAAAAAAAAAAAAAAAAAAAAAAAAAAAAAAAAAAAAAAAAAAAAAAAAAAAAAAAAAAAAAAAAAAAAAAAAAAAAAAAAAAAAAAAAAAAAAAAAAAAAAAAAAAAAAAAAAAAAAAAAAAAAAAAAAAAAAAAAAAAAAAAAAAAAAAAAAAAAAAAAAAAAAAAAAAAAAAAAAAAAAAAAAAAAAAAAAAAAAAAAAAAAAAAAAAAAAAAAAAAAAAAAAAAAAAAAAAAAAAAAAAAAAAAAAAAAAAAAAAAAAAAAAAAAAAAAAAAAAAAAAAAAAAAAAAAAAAAAAAAAAAAAAAAAAAAAAAAAAAAAAAAAAAAAAAAAAAAAAAAAAAAAAAAAAAAAAAAAAAAAAAAAAAAAAAAAAAAAAAAAAAAAAAAAAAAAAAAAAAAAAAAAAAAAAAAAAAAAAAAAAAAAAAAAAAAAAAAAAAAAAAAAAAAAAAAAAAAAAAAAAAAAAAAAAAAAAAAAAAAAAAAAAAAAAAAAAAAAAAAAAAAAAAAAAAAAAAAAAAAAAAAAAAAAAAAAAAAAAAAAAAAAAAAAAAAAAAAAAAAAAAAAAAAAAAAAAAAAAAAAAAAAAAAAAAAAAAAAAAAAAAAAAAAAAAAAAAAAAAAAAAAAAAAAAAAAAAAAAAAAAAAAAAAAAAAAAAAAAAAAAAAAAAAAAAAAAAAAAAAAAAAAAAAAAAAAAAAAAAAAAAAAAAAAAAAAAAAAAAAAAAAAAAAAAAAAAAAAAAAAAAAAAAAAAAAAAAAAAAAAAAAAAAAAAAAAAAAAAAAAAAAAAAAAAAAAAAAAAAAAAAAAAAAAAAAAAAAAAAAAAAAAAAAAAAAAAAAAAAAAAAAAAAAAAAAAAAAAAAAAAAAAAAAAAAAAAAAAAAAAAAAAAAAAAAAAAAAAAAAAAAAAAAAAAAAAAAAAAAAAAAAAAAAAAAAAAAAAAAAAAAAAAAAAAAAAAAAAAAAAAAAAAAAAAAAAAAAAAAAAAAAAAAAAAAAAAAAAAAAAAAAAAAAAAAAAAAAAAAAAAAAAAAAAAAAAAAAAAAAAAAAAAAAAAAAAAAAAAAAAAAAAAAAAAAAAAAAAAAAAAAAAAAAAAAAAAAAAAAAAAAAAAAAAAAAAAAAAAAAAAAAAAAAAAAAAAAAAAAAAAAAAAAAAAAAAAAAAAAAAAAAAAAAAAAAAAAAAAAAAAAAAAAAAAAAAAAAAAAAAAAAAAAAAAAAAAAAAAAAAAAAAAAAAAAAAAAAAAAAAAAAAAAAAAAAAAAAAAAAAAAAAAAAAAAAAAAAAAAAAAAAAAAAAAAAAAAAAAAAAAAAAAAAAAAAAAAAAAAAAAAAAAAAAAAAAAAAAAAAAAAAAAAAAAAAAAAAAAAAAAAAAAAAAAAAAAAAAAAAAAAAAAAAAAAAAAAAAAAAAAAAAAAAAAAAAAAAAAAAAAAAAAAAAAAAAAAAAAAAAAAAAAAAAAAAAAAAAAAAAAAAAAAAAAAAAAAAAAAAAAAAAAAAAAAAAAAAAAAAAAAAAAAAAAAAAAAAAAAAAAAAAAAAAAAAAAAAAAADAAAAAwAAAAMAAAADAAAAAwAAAAMAAAADAAAAAwAAAAMAAAADAAAAAwAAAAMAAAADAAAAAwAAAAMAAAADAAAAAwAAAAMAAAADAAAAAwAAAAMAAAADAAAAAwAAAAMAAAADAAAAAwAAAAMAAAADAAAAAwAAAAMAAAADAAAAAwAAAAMAAAADAAAAAwAAAAMAAAADAAAAAwAAAAMAAAADAAAAAwAAAAMAAAADAAAAAwAAAAMAAAADAAAAAwAAAAMAAAADAAAAAwAAAAMAAAADAAAAAwAAAAMAAAADAAAAAwAAAAMAAAADAAAAAwAAAAMAAAADAAAAAwAAAAMAAAADAAAAAwAAAAMAAAADAAAAAwAAAAMAAAADAAAAAwAAAAMAAAADAAAAAwAAAAMAAAADAAAAAwAAAAMAAAADAAAAAwAAAAMAAAADAAAAAwAAAAMAAAADAAAAAwAAAAMAAAADAAAAAwAAAAMAAAADAAAAAwAAAAMAAAADAAAAAwAAAAMAAAADAAAAAwAAAAMAAAADAAAAAwAAAAMAAAADAAAAAwAAAAMAAAADAAAAAwAAAAMAAAADAAAAAwAAAAMAAAADAAAAAwAAAAMAAAADAAAAAwAAAAMAAAADAAAAAwAAAAMAAAADAAAAAwAAAAMAAAADAAAAAwAAAAMAAAADAAAAAwAAAAMAAAADAAAAAwAAAAMAAAADAAAAAwAAAAMAAAADAAAAAwAAAAMAAAADAAAAAwAAAAMAAAADAAAAAwAAAAMAAAADAAAAAwAAAAMAAAADAAAAAwAAAAMAAAA=",
        "encoding": "base64",
        "path": [
         "y",
         "value"
        ]
       }
      ],
      "model_module": "bqplot",
      "model_module_version": "^0.5.14",
      "model_name": "LinesModel",
      "state": {
       "colors": [
        "red"
       ],
       "fill_colors": [],
       "labels": [
        "C1"
       ],
       "scales": {
        "x": "IPY_MODEL_d325166005ec49b58fa4305f9a81ce72",
        "y": "IPY_MODEL_51c2cd5a060f4680a6466c6d3afb70c8"
       },
       "x": {
        "dtype": "float64",
        "shape": [
         500
        ],
        "type": null,
        "value": {}
       },
       "y": {
        "dtype": "int32",
        "shape": [
         500
        ],
        "type": null,
        "value": {}
       }
      }
     },
     "170331ec085a4728bbd528cc27c0b5b9": {
      "model_module": "@jupyter-widgets/controls",
      "model_module_version": "1.5.0",
      "model_name": "FloatSliderModel",
      "state": {
       "description": "Durée",
       "layout": "IPY_MODEL_b75e475c97914571a9b5cd56cfdf5205",
       "min": 10,
       "orientation": "vertical",
       "step": 2,
       "style": "IPY_MODEL_fd190352bf2e4d35a9cc49393315a494",
       "value": 50
      }
     },
     "19eac1216c52495daaab80ea1ff9faa0": {
      "buffers": [
       {
        "data": "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",
        "encoding": "base64",
        "path": [
         "x",
         "value"
        ]
       },
       {
        "data": "AAAAAAAAAAAAAAAAAAAAAAAAAAAAAAAAAAAAAAAAAAAAAAAAAAAAAAAAAAAAAAAAAAAAAAAAAAAAAAAAAAAAAAAAAAAAAAAAAAAAAAAAAAAAAAAAAAAAAAAAAAAAAAAAAAAAAAAAAAAAAAAAAAAAAAAAAAAAAAAAAAAAAAAAAAAAAAAAAAAAAAAAAAAAAAAAAAAAAAAAAAAAAAAAAAAAAAAAAAAAAAAAAAAAAAAAAAAAAAAAAAAAAAAAAAAAAAAAAAAAAAAAAAAUAAAAFAAAABQAAAAUAAAAFAAAABQAAAAUAAAAFAAAABQAAAAUAAAAFAAAABQAAAAUAAAAFAAAABQAAAAUAAAAFAAAABQAAAAUAAAAFAAAABQAAAAUAAAAFAAAABQAAAAUAAAAFAAAABQAAAAUAAAAFAAAABQAAAAUAAAAFAAAABQAAAAUAAAAFAAAABQAAAAUAAAAFAAAABQAAAAUAAAAFAAAABQAAAAUAAAAFAAAABQAAAAUAAAAFAAAABQAAAAUAAAAFAAAABQAAAAUAAAAFAAAABQAAAAUAAAAFAAAABQAAAAUAAAAFAAAABQAAAAUAAAAFAAAABQAAAAUAAAAFAAAABQAAAAUAAAAFAAAABQAAAAUAAAAFAAAABQAAAAUAAAAFAAAABQAAAAUAAAAFAAAABQAAAAUAAAAFAAAABQAAAAUAAAAFAAAABQAAAAUAAAAFAAAABQAAAAUAAAAFAAAABQAAAAUAAAAFAAAABQAAAAUAAAAFAAAABQAAAAUAAAAFAAAABQAAAAUAAAAFAAAABQAAAAUAAAAFAAAABQAAAAUAAAAFAAAABQAAAAUAAAAFAAAABQAAAAUAAAAFAAAABQAAAAUAAAAFAAAABQAAAAUAAAAFAAAABQAAAAUAAAAFAAAABQAAAAUAAAAFAAAABQAAAAUAAAAFAAAABQAAAAUAAAAFAAAABQAAAAUAAAAFAAAABQAAAAUAAAAFAAAABQAAAAUAAAAFAAAABQAAAAUAAAAFAAAABQAAAAUAAAAFAAAABQAAAAUAAAAFAAAABQAAAAUAAAAFAAAABQAAAAUAAAAFAAAABQAAAAUAAAAFAAAABQAAAAUAAAAFAAAABQAAAAUAAAAFAAAABQAAAAUAAAAFAAAABQAAAAUAAAAFAAAABQAAAAUAAAAFAAAABQAAAAUAAAAFAAAABQAAAAUAAAAFAAAABQAAAAUAAAAFAAAABQAAAAUAAAAFAAAABQAAAAUAAAAFAAAABQAAAAUAAAAFAAAABQAAAAUAAAAFAAAABQAAAAUAAAAFAAAABQAAAAUAAAAFAAAABQAAAAUAAAAFAAAABQAAAAUAAAAFAAAABQAAAAUAAAAFAAAABQAAAAUAAAAFAAAABQAAAAUAAAAFAAAABQAAAAUAAAAFAAAABQAAAAUAAAAFAAAABQAAAAUAAAAFAAAABQAAAAUAAAAFAAAABQAAAAUAAAAFAAAABQAAAAUAAAAFAAAABQAAAAUAAAAFAAAABQAAAAUAAAAFAAAABQAAAAUAAAAFAAAABQAAAAUAAAAFAAAABQAAAAUAAAAFAAAABQAAAAUAAAAFAAAABQAAAAUAAAAFAAAABQAAAAUAAAAFAAAABQAAAAUAAAAFAAAABQAAAAUAAAAFAAAABQAAAAUAAAAFAAAABQAAAAUAAAAFAAAABQAAAAUAAAAFAAAABQAAAAUAAAAFAAAABQAAAAUAAAAFAAAABQAAAAUAAAAFAAAABQAAAAUAAAAFAAAABQAAAAUAAAAFAAAABQAAAAUAAAAFAAAABQAAAAUAAAAFAAAABQAAAAUAAAAFAAAABQAAAAUAAAAFAAAABQAAAAUAAAAFAAAABQAAAAUAAAAFAAAABQAAAAUAAAAFAAAABQAAAAUAAAAFAAAABQAAAAUAAAAFAAAABQAAAAUAAAAFAAAABQAAAAUAAAAFAAAABQAAAAUAAAAFAAAABQAAAAUAAAAFAAAABQAAAAUAAAAFAAAABQAAAAUAAAAFAAAABQAAAAUAAAAFAAAABQAAAAUAAAAFAAAABQAAAAUAAAAFAAAABQAAAAUAAAAFAAAABQAAAAUAAAAFAAAABQAAAAUAAAAFAAAABQAAAAUAAAAFAAAABQAAAAUAAAAFAAAABQAAAAUAAAAFAAAABQAAAAUAAAAFAAAABQAAAAUAAAAFAAAABQAAAAUAAAAFAAAABQAAAAUAAAAFAAAABQAAAAUAAAAFAAAABQAAAAUAAAAFAAAABQAAAAUAAAAFAAAABQAAAAUAAAAFAAAABQAAAAUAAAAFAAAABQAAAAUAAAAFAAAABQAAAAUAAAAFAAAABQAAAAUAAAAFAAAABQAAAAUAAAAFAAAABQAAAAUAAAAFAAAABQAAAAUAAAAFAAAABQAAAAUAAAAFAAAABQAAAAUAAAAFAAAABQAAAAUAAAAFAAAABQAAAAUAAAAFAAAABQAAAAUAAAAFAAAABQAAAAUAAAAFAAAABQAAAAUAAAAFAAAABQAAAAUAAAAFAAAABQAAAAUAAAAFAAAABQAAAAUAAAAFAAAABQAAAAUAAAAFAAAABQAAAAUAAAAFAAAABQAAAAUAAAAFAAAABQAAAAUAAAAFAAAABQAAAAUAAAAFAAAABQAAAA=",
        "encoding": "base64",
        "path": [
         "y",
         "value"
        ]
       }
      ],
      "model_module": "bqplot",
      "model_module_version": "^0.5.14",
      "model_name": "LinesModel",
      "state": {
       "colors": [
        "black"
       ],
       "fill_colors": [],
       "labels": [
        "C1"
       ],
       "scales": {
        "x": "IPY_MODEL_d325166005ec49b58fa4305f9a81ce72",
        "y": "IPY_MODEL_51c2cd5a060f4680a6466c6d3afb70c8"
       },
       "x": {
        "dtype": "float64",
        "shape": [
         500
        ],
        "type": null,
        "value": {}
       },
       "y": {
        "dtype": "int32",
        "shape": [
         500
        ],
        "type": null,
        "value": {}
       }
      }
     },
     "1c06f6d4266543328ed6924ff487becf": {
      "model_module": "bqplot",
      "model_module_version": "^0.5.14",
      "model_name": "LinearScaleModel",
      "state": {
       "allow_padding": false,
       "max": 1,
       "min": 0,
       "stabilized": false
      }
     },
     "26bb9b3f60ef419eaa31a388e1f1ea4b": {
      "model_module": "@jupyter-widgets/base",
      "model_module_version": "1.2.0",
      "model_name": "LayoutModel",
      "state": {
       "grid_area": "left-sidebar"
      }
     },
     "2a1c7b8d8fa34e09860202319c12e549": {
      "model_module": "@jupyter-widgets/controls",
      "model_module_version": "1.5.0",
      "model_name": "VBoxModel",
      "state": {
       "children": [
        "IPY_MODEL_87bc20c4e2d04578ab19f2d041ce781a",
        "IPY_MODEL_7f37c8cd51ba49a5ae74c7ca853c5971"
       ],
       "layout": "IPY_MODEL_8255876672b743b6a16bf55c33bb84d7"
      }
     },
     "2fd747d508784c4e947ecf98f5f98a7e": {
      "model_module": "bqplot",
      "model_module_version": "^0.5.14",
      "model_name": "AxisModel",
      "state": {
       "scale": "IPY_MODEL_d325166005ec49b58fa4305f9a81ce72",
       "side": "bottom",
       "tick_values": null
      }
     },
     "31f865e31776403bbf4c581b6e850fa4": {
      "buffers": [
       {
        "data": "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",
        "encoding": "base64",
        "path": [
         "x",
         "value"
        ]
       },
       {
        "data": "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",
        "encoding": "base64",
        "path": [
         "y",
         "value"
        ]
       }
      ],
      "model_module": "bqplot",
      "model_module_version": "^0.5.14",
      "model_name": "LinesModel",
      "state": {
       "colors": [
        "blue"
       ],
       "fill_colors": [],
       "labels": [
        "C1"
       ],
       "scales": {
        "x": "IPY_MODEL_d325166005ec49b58fa4305f9a81ce72",
        "y": "IPY_MODEL_51c2cd5a060f4680a6466c6d3afb70c8"
       },
       "x": {
        "dtype": "float64",
        "shape": [
         500
        ],
        "type": null,
        "value": {}
       },
       "y": {
        "dtype": "float64",
        "shape": [
         500
        ],
        "type": null,
        "value": {}
       }
      }
     },
     "32b3b719faaf40eda6ed6ba598da7b6a": {
      "model_module": "bqplot",
      "model_module_version": "^0.5.14",
      "model_name": "LinearScaleModel",
      "state": {
       "max": 100,
       "min": 0,
       "stabilized": false
      }
     },
     "3c975416a20b4fdfafe96dccc81d63d5": {
      "model_module": "bqplot",
      "model_module_version": "^0.5.14",
      "model_name": "LinearScaleModel",
      "state": {
       "allow_padding": false,
       "max": 1,
       "min": 0,
       "stabilized": false
      }
     },
     "51c2cd5a060f4680a6466c6d3afb70c8": {
      "model_module": "bqplot",
      "model_module_version": "^0.5.14",
      "model_name": "LinearScaleModel",
      "state": {
       "stabilized": false
      }
     },
     "64e356f555b14b28a4c8960fdeb548bc": {
      "buffers": [
       {
        "data": "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",
        "encoding": "base64",
        "path": [
         "x",
         "value"
        ]
       },
       {
        "data": "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",
        "encoding": "base64",
        "path": [
         "y",
         "value"
        ]
       }
      ],
      "model_module": "bqplot",
      "model_module_version": "^0.5.14",
      "model_name": "LinesModel",
      "state": {
       "colors": [
        "red"
       ],
       "display_legend": true,
       "fill_colors": [],
       "labels": [
        "vit. modèle Non linéaire"
       ],
       "scales": {
        "x": "IPY_MODEL_32b3b719faaf40eda6ed6ba598da7b6a",
        "y": "IPY_MODEL_85542b5fd67e4c29b8d50015010b9fa2"
       },
       "stroke_width": 3,
       "x": {
        "dtype": "float64",
        "shape": [
         200
        ],
        "type": null,
        "value": {}
       },
       "y": {
        "dtype": "float64",
        "shape": [
         200
        ],
        "type": null,
        "value": {}
       }
      }
     },
     "720e946b92fa4bdab1894ce717d1536e": {
      "model_module": "@jupyter-widgets/controls",
      "model_module_version": "1.5.0",
      "model_name": "FloatSliderModel",
      "state": {
       "description": "Accélération",
       "layout": "IPY_MODEL_a37c5c1cad4948c7a5ea5ecf0d14ba6f",
       "max": 25,
       "orientation": "vertical",
       "style": "IPY_MODEL_0fc9fb6c83984f7c95a434b00824e5d5",
       "value": 5
      }
     },
     "7caf10fb238849e0bfcef84a9c5e2dc9": {
      "model_module": "bqplot",
      "model_module_version": "^0.5.14",
      "model_name": "AxisModel",
      "state": {
       "label": "Commande (%)",
       "orientation": "vertical",
       "scale": "IPY_MODEL_ae4cc0bc4659454dbb335afb68af3b4d",
       "side": "right",
       "tick_format": "0.0f",
       "tick_values": null
      }
     },
     "7f2fe371f8a4409eba2cbfe7230f513c": {
      "model_module": "@jupyter-widgets/base",
      "model_module_version": "1.2.0",
      "model_name": "LayoutModel",
      "state": {
       "grid_area": "center"
      }
     },
     "7f37c8cd51ba49a5ae74c7ca853c5971": {
      "model_module": "bqplot",
      "model_module_version": "^0.5.14",
      "model_name": "ToolbarModel",
      "state": {
       "figure": "IPY_MODEL_87bc20c4e2d04578ab19f2d041ce781a",
       "layout": "IPY_MODEL_134145b391e2477d81e3655d5f066654"
      }
     },
     "8255876672b743b6a16bf55c33bb84d7": {
      "model_module": "@jupyter-widgets/base",
      "model_module_version": "1.2.0",
      "model_name": "LayoutModel",
      "state": {}
     },
     "8474f0e989b6468084d3b8c688f0c896": {
      "model_module": "@jupyter-widgets/base",
      "model_module_version": "1.2.0",
      "model_name": "LayoutModel",
      "state": {
       "width": "90%"
      }
     },
     "85542b5fd67e4c29b8d50015010b9fa2": {
      "model_module": "bqplot",
      "model_module_version": "^0.5.14",
      "model_name": "LinearScaleModel",
      "state": {
       "max": 140,
       "min": 80,
       "stabilized": false
      }
     },
     "86d7233ee5b848a191dd7a8e3186ba7e": {
      "buffers": [
       {
        "data": "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",
        "encoding": "base64",
        "path": [
         "x",
         "value"
        ]
       },
       {
        "data": "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",
        "encoding": "base64",
        "path": [
         "y",
         "value"
        ]
       }
      ],
      "model_module": "bqplot",
      "model_module_version": "^0.5.14",
      "model_name": "LinesModel",
      "state": {
       "colors": [
        "black"
       ],
       "display_legend": true,
       "fill_colors": [],
       "labels": [
        "Commande"
       ],
       "scales": {
        "x": "IPY_MODEL_32b3b719faaf40eda6ed6ba598da7b6a",
        "y": "IPY_MODEL_ae4cc0bc4659454dbb335afb68af3b4d"
       },
       "stroke_width": 3,
       "x": {
        "dtype": "float64",
        "shape": [
         200
        ],
        "type": null,
        "value": {}
       },
       "y": {
        "dtype": "float64",
        "shape": [
         200
        ],
        "type": null,
        "value": {}
       }
      }
     },
     "87bc20c4e2d04578ab19f2d041ce781a": {
      "model_module": "bqplot",
      "model_module_version": "^0.5.14",
      "model_name": "FigureModel",
      "state": {
       "axes": [
        "IPY_MODEL_2fd747d508784c4e947ecf98f5f98a7e",
        "IPY_MODEL_b8f347913f79456a9d183d83f19b4359"
       ],
       "layout": "IPY_MODEL_8474f0e989b6468084d3b8c688f0c896",
       "marks": [
        "IPY_MODEL_31f865e31776403bbf4c581b6e850fa4",
        "IPY_MODEL_19eac1216c52495daaab80ea1ff9faa0",
        "IPY_MODEL_157ad835141c48bf987c285120a5346f"
       ],
       "scale_x": "IPY_MODEL_1c06f6d4266543328ed6924ff487becf",
       "scale_y": "IPY_MODEL_3c975416a20b4fdfafe96dccc81d63d5",
       "title": "Vitesse véhicule / Commande accélérateur /pente"
      }
     },
     "8ec6866da16641b5af88dead90a33bb3": {
      "model_module": "@jupyter-widgets/base",
      "model_module_version": "1.2.0",
      "model_name": "LayoutModel",
      "state": {}
     },
     "907925fe608242afa852cbe0deb8abf9": {
      "model_module": "bqplot",
      "model_module_version": "^0.5.14",
      "model_name": "AxisModel",
      "state": {
       "label": "temps(s)",
       "scale": "IPY_MODEL_32b3b719faaf40eda6ed6ba598da7b6a",
       "side": "bottom",
       "tick_values": null
      }
     },
     "a37c5c1cad4948c7a5ea5ecf0d14ba6f": {
      "model_module": "@jupyter-widgets/base",
      "model_module_version": "1.2.0",
      "model_name": "LayoutModel",
      "state": {}
     },
     "ae4cc0bc4659454dbb335afb68af3b4d": {
      "model_module": "bqplot",
      "model_module_version": "^0.5.14",
      "model_name": "LinearScaleModel",
      "state": {
       "max": 60,
       "min": 0,
       "stabilized": false
      }
     },
     "b75e475c97914571a9b5cd56cfdf5205": {
      "model_module": "@jupyter-widgets/base",
      "model_module_version": "1.2.0",
      "model_name": "LayoutModel",
      "state": {}
     },
     "b8f347913f79456a9d183d83f19b4359": {
      "model_module": "bqplot",
      "model_module_version": "^0.5.14",
      "model_name": "AxisModel",
      "state": {
       "orientation": "vertical",
       "scale": "IPY_MODEL_51c2cd5a060f4680a6466c6d3afb70c8",
       "side": "left",
       "tick_values": null
      }
     },
     "ba339db34388404a9f58fad1b239cc99": {
      "buffers": [
       {
        "data": "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",
        "encoding": "base64",
        "path": [
         "x",
         "value"
        ]
       },
       {
        "data": "AAAAAACAVkAAAAAAAIBWQAAAAAAAgFZAAAAAAACAVkAAAAAAAIBWQAAAAAAAgFZAAAAAAACAVkAAAAAAAIBWQAAAAAAAgFZAAAAAAACAVkAAAAAAAIBWQAAAAAAAgFZAAAAAAACAVkAAAAAAAIBWQAAAAAAAgFZAAAAAAACAVkAAAAAAAIBWQAAAAAAAgFZAAAAAAACAVkAAAAAAAIBWQA2f9i6kiFZAFk9DRr6ZVkBaTqqBlapWQM3AKuYqu1ZAH7bkdH/LVkAkOj0rlNtWQNJU3gJq61ZASAq38QH7VkDBWvvpXApXQKVCJNp7GVdAUIhWrV8oV0BpfnNNCTdXQDVM55x5RVdAS/cjerFTV0BmuaLAsWFXQGUA5Eh7b1dATG5v6A59V0BF2dNxbYpXQJxLp7SXl1dAxAOHfY6kV0BSdBeWUrFXQAJEBMXkvVdAs00AzkXKV0BooMVxdtZXQEt/FW534ldAp2G4fUnuV0Dv8n1Y7flXQHJIJLRjBVhAUx75RK0QWEBBOjG4yhtYQCxMXri8JlhAzK7d7YMxWECeZ9j+IDxYQOkmQ4+URlhAukfeQN9QWEDnzzWzAVtYQAtwoYP8ZFhAioNETdBuWECNEA6pfXhYQAnIuC0FglhAtQXLb2eLWEAU0JYBpZRYQG3YOXO+nVhAz3qdUrSmWEARvnYrh69YQNNTRoc3uFhAephY7cXAWEBySprjMslYQGG/Je9+0VhAtqzHjqrZWEBPuE0/tuFYQLt29Xui6VhAM2tsvm/xWECkB9B+HvlYQKasrTOvAFlAgakCUiIIWUAqPDxNeA9ZQEeRN5exFllALMRBoM4dWUDZ3hfXzyRZQADa5qi1K1lAAJ1LgYAyWUDm/VLKMDlZQHDBeezGP1lAB5usTkNGWUDFLEhWpkxZQHQHGWfwUllAiapb4yFZWUAphLwrO19ZQCnxV588ZVlA8DNomiZrWUBqlaF2+XBZQJuoPY61dllAT3AvOlt8WUDfRx3S6oFZQDLjYKxkh1lAvU4HHsmMWUB/79B6GJJZQAqDMRVTl1lAw/VKPnmcWUCsMbfztZhZQPYNnNGajFlAEzawA6+AWUC3TOvQ8XRZQB8rkYFiaVlA7638WQBeWUAPP4GrylJZQGzBfsvAR1lA/ddsEeI8WUC/5drWLTJZQLwNcHejJ1lAAjPrUEIdWUCp+CLDCRNZQNTBBTD5CFlAqrGZ+w//WEBfq/yLTfVYQC1SZEmx61hAVwkenjriWEAr9I726NhYQPv1M8G7z1hAJrKhbrLGWEAQjIRxzL1YQCinoD4JtVhA5ubRTGisWEDH7gsV6aNYQFYiWhKLm1hAIqXfwU2TWEDDWteiMItYQPLjjTYzg1hAKnHT/1R7WEDYnAuGlXNYQP1WQVP0a1hAPxPz8nBkWEDvyBLyCl1YQAnzBd/BVVhAL5ClSZVOWECsIj7DhEdYQHewj96PQFhALcPNL7Y5WEATaJ9M9zJYQB0wH8xSLFhA4C/bRsglWECg/9RWVx9YQEi7gZf/GFhAawLKpcASWEBG+AkgmgxYQMBDEaaLBlhAZg8j2ZQAWEByCfZbtfpXQMNjtNLs9FdA5NP74jrvV0AHk90zn+lXQO0Xt20Z5FdAzDbmOaneV0DeeWFFTtlXQOiIkz4I1FdAqpbo1NbOV0DbYM64uclXQCswtJuwxFdAQNgKMLu/V0C5t0Qp2bpXQC+41TsKtldAM04zHU6xV0BMedSDpKxXQPvDMScNqFdAuEPFv4ejV0D2mAoHFJ9XQBzvfrexmldAjPygjGCWV0CgAvFCIJJXQKzN8JfwjVdA9rQjStGJV0DEmg4ZwoVXQE/sN8XCgVdAyqEnENN9V0BgPme88nlXQAzWVI0hdldAXw1iR19yV0CKJUqxq25XQPwcm5IGa1dAnAGWs29nV0C/8C7d5mNXQDEXDdlrYFdALrGKcf5cV0BlCrVxnllXQPp9TKVLVldAgHbE2AVTV0D/bUPZzE9XQPTtonSgTFdAS49veYBJV0Bj+ui2bEZXQBLnAf1kQ1dAmRxgHGlAV0C0cVzmeD1XQI7MAi2UOldAxCISw7o3V0Bmefx77DRXQPjk5ispMldAcompp3AvV0A6ms/EwixXQA==",
        "encoding": "base64",
        "path": [
         "y",
         "value"
        ]
       }
      ],
      "model_module": "bqplot",
      "model_module_version": "^0.5.14",
      "model_name": "LinesModel",
      "state": {
       "colors": [
        "blue"
       ],
       "display_legend": true,
       "fill_colors": [],
       "labels": [
        "vit. modèle Linéaire"
       ],
       "scales": {
        "x": "IPY_MODEL_32b3b719faaf40eda6ed6ba598da7b6a",
        "y": "IPY_MODEL_85542b5fd67e4c29b8d50015010b9fa2"
       },
       "stroke_width": 3,
       "x": {
        "dtype": "float64",
        "shape": [
         200
        ],
        "type": null,
        "value": {}
       },
       "y": {
        "dtype": "float64",
        "shape": [
         200
        ],
        "type": null,
        "value": {}
       }
      }
     },
     "c3a0f34892334176ad59dafc4879c057": {
      "model_module": "bqplot",
      "model_module_version": "^0.5.14",
      "model_name": "LinearScaleModel",
      "state": {
       "allow_padding": false,
       "max": 1,
       "min": 0,
       "stabilized": false
      }
     },
     "c4800dea89ec48f69b74ae3cd42f883d": {
      "model_module": "bqplot",
      "model_module_version": "^0.5.14",
      "model_name": "LinearScaleModel",
      "state": {
       "allow_padding": false,
       "max": 1,
       "min": 0,
       "stabilized": false
      }
     },
     "d325166005ec49b58fa4305f9a81ce72": {
      "model_module": "bqplot",
      "model_module_version": "^0.5.14",
      "model_name": "LinearScaleModel",
      "state": {
       "stabilized": false
      }
     },
     "dcb829b97a0644ea878f59dfbb9d0b74": {
      "model_module": "@jupyter-widgets/controls",
      "model_module_version": "1.5.0",
      "model_name": "GridBoxModel",
      "state": {
       "children": [
        "IPY_MODEL_e7da0cacc2804165b3e9d2ddc0e5d319",
        "IPY_MODEL_fc3a233a465b4e5d840d246c4d7ea171"
       ],
       "layout": "IPY_MODEL_e8df0bbc2b344e4a9289d4f670bae289"
      }
     },
     "e7da0cacc2804165b3e9d2ddc0e5d319": {
      "model_module": "@jupyter-widgets/controls",
      "model_module_version": "1.5.0",
      "model_name": "VBoxModel",
      "state": {
       "_dom_classes": [
        "widget-interact"
       ],
       "children": [
        "IPY_MODEL_720e946b92fa4bdab1894ce717d1536e",
        "IPY_MODEL_170331ec085a4728bbd528cc27c0b5b9",
        "IPY_MODEL_05d29e08177e421e8620f64b9c6b468f"
       ],
       "layout": "IPY_MODEL_26bb9b3f60ef419eaa31a388e1f1ea4b"
      }
     },
     "e8df0bbc2b344e4a9289d4f670bae289": {
      "model_module": "@jupyter-widgets/base",
      "model_module_version": "1.2.0",
      "model_name": "LayoutModel",
      "state": {
       "align_items": "center",
       "grid_template_areas": "\"left-sidebar center center\"",
       "grid_template_columns": "1fr 5fr 5fr",
       "grid_template_rows": "1fr"
      }
     },
     "ef62fa3b508948f1be107dff51a408de": {
      "model_module": "bqplot",
      "model_module_version": "^0.5.14",
      "model_name": "AxisModel",
      "state": {
       "label": "Vitesse (km/h)",
       "orientation": "vertical",
       "scale": "IPY_MODEL_85542b5fd67e4c29b8d50015010b9fa2",
       "side": "left",
       "tick_format": "0.0f",
       "tick_values": null
      }
     },
     "fc3a233a465b4e5d840d246c4d7ea171": {
      "model_module": "bqplot",
      "model_module_version": "^0.5.14",
      "model_name": "FigureModel",
      "state": {
       "axes": [
        "IPY_MODEL_907925fe608242afa852cbe0deb8abf9",
        "IPY_MODEL_ef62fa3b508948f1be107dff51a408de",
        "IPY_MODEL_7caf10fb238849e0bfcef84a9c5e2dc9"
       ],
       "layout": "IPY_MODEL_7f2fe371f8a4409eba2cbfe7230f513c",
       "marks": [
        "IPY_MODEL_64e356f555b14b28a4c8960fdeb548bc",
        "IPY_MODEL_ba339db34388404a9f58fad1b239cc99",
        "IPY_MODEL_86d7233ee5b848a191dd7a8e3186ba7e"
       ],
       "scale_x": "IPY_MODEL_c3a0f34892334176ad59dafc4879c057",
       "scale_y": "IPY_MODEL_c4800dea89ec48f69b74ae3cd42f883d",
       "title": "Comparaison modèles linéaire et non linéaire (sur le plat)"
      }
     },
     "fd190352bf2e4d35a9cc49393315a494": {
      "model_module": "@jupyter-widgets/controls",
      "model_module_version": "1.5.0",
      "model_name": "SliderStyleModel",
      "state": {
       "description_width": ""
      }
     }
    },
    "version_major": 2,
    "version_minor": 0
   }
  }
 },
 "nbformat": 4,
 "nbformat_minor": 4
}
