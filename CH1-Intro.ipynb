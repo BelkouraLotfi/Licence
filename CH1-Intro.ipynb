{
 "cells": [
  {
   "cell_type": "markdown",
   "metadata": {
    "slideshow": {
     "slide_type": "slide"
    }
   },
   "source": [
    "<h2 align=\"center\"> Introduction à l'Automatique Linéaire</h2>\n",
    "<h3 align=\"center\"> Université de Lille</h3>\n",
    "<h3 align=\"center\"> Faculté des Sciences et Technologies</h3>\n",
    "<h4 align=\"center\"> Dept. EEA   Bât P2 307 </h4><br>\n",
    "<div align=\"center\"> Lotfi.Belkoura@univ-lille.fr</div>"
   ]
  },
  {
   "cell_type": "markdown",
   "metadata": {
    "slideshow": {
     "slide_type": "slide"
    }
   },
   "source": [
    "<h1 align=\"center\">Introduction</h1>\n",
    "\n",
    "### Objectif de l'Automatique: \n",
    "Obtenir qu'un système se comporte de façon **autonome** \n",
    "(sans intervention de l'homme) en répondant à un **cahier des charges** portant sur des caractéristiques données telles que:\n",
    "\n",
    "stabilité, rapidité de la réponse, précision, rejet de perturbations, suivi de trajectoire, etc.\n",
    "\n",
    "l'Automatique propose de concevoir des algorithmes de **contrôle**, mais aussi de **surveillance**, de **diagnostic** et d’**estimation**."
   ]
  },
  {
   "cell_type": "markdown",
   "metadata": {
    "slideshow": {
     "slide_type": "slide"
    }
   },
   "source": [
    "### Présente dans tous les secteurs industriels\n",
    "<br>\n",
    "\n",
    "<table>\n",
    "<tr><td width=\"30%\"> <strong>Robotique</strong> </td>\n",
    "    <td>Asservissement des bras articulés </td>\n",
    "    </tr>\n",
    "<tr><td> <strong>Transports</strong> </td>\n",
    "    <td>Régulateurs de vitesse, de freinage (ABS), véhicule autonome </td>\n",
    "    </tr>    \n",
    "<tr><td> <strong> Aéronautique</strong> </td>\n",
    "    <td> Commande des gouvernes, pilotage automatique </td>\n",
    "    </tr>\n",
    "<tr><td> <strong> Spatial</strong></td>\n",
    "    <td> Maîtrise de l'orbite, commande de l'attitude </td>\n",
    "    </tr>\n",
    "<tr><td> <strong> Energie</strong></td>\n",
    "    <td> Contrôle de température et débit vapeur dans une centrale </td>\n",
    "    </tr>    \n",
    "<tr><td> <strong> Environnement</strong></td>\n",
    "    <td> Maîtrise des paramètres climatiques sous serre, traitement des eaux </td></tr>\n",
    "<tr><td> <strong> ...</strong></td>\n",
    "    <td> ... </td></tr>    \n",
    "</table>    "
   ]
  },
  {
   "cell_type": "markdown",
   "metadata": {
    "slideshow": {
     "slide_type": "slide"
    }
   },
   "source": [
    "### Système (commandé)\n",
    "Ensemble traduisant une relation de **cause à effet** entre des grandeurs d'entrée et des grandeurs de sortie.\n",
    "- Les **entrées** se composent de deux groupes distincts:\n",
    "    * les **commandes**: grandeurs sur lesquelles nous pouvons agir (ex: débit de gaz pour moteur à combustion, tension pour moteurs électriques, puissance électrique pour processus thermique, etc...)\n",
    "    * les **perturbations**: grandeurs incontrôlées qui modifient le comportement du système (ex: rafale de vent pour un avion, adhérence (chaussée glissante) pour un véhicule, changement de température extérieure pour un local, etc.)\n",
    "- Les **sorties** correspondent généralement aux grandeurs que l'on cherche à contrôler (ex: position, vitesse d'un véhicule, température d'une pièce, débits, etc..)"
   ]
  },
  {
   "cell_type": "markdown",
   "metadata": {
    "slideshow": {
     "slide_type": "slide"
    }
   },
   "source": [
    "### Représentation fonctionnelle\n",
    "Sans se soucier du mécanisme interne au système, un processus sera représenté (dans un premier temps) par le schéma fonctionnel suivant dans lequel $t$ désigne la variable temps. <br><br>\n",
    "<div><center><img src=\"Figures/RepFonct.svg\" width=\"35%\"/></center></div> \n",
    "<br>\n",
    "Remarque: Le signal de perturbation n'est pas toujours explicite (parfois omis)."
   ]
  },
  {
   "cell_type": "markdown",
   "metadata": {
    "slideshow": {
     "slide_type": "slide"
    }
   },
   "source": [
    "### Structure bouclée\n",
    "La structure bouclée se réalise par un **retour d'information** sur la grandeur à contrôler, et ce au moyen de **capteurs**. Plus généralement:<br>\n",
    "\t\n",
    "Un processus est dit en **boucle ouverte** si la commande est indépendante du signal de sortie. Inversement, il sera dit en **boucle fermée** si la commande dépend (d'une façon ou d'une autre) de la sortie.\n",
    "<br>\n",
    "<div><center><img src=\"Figures/StructBouclee.svg\" width=\"60%\"/></center></div> "
   ]
  },
  {
   "cell_type": "markdown",
   "metadata": {
    "slideshow": {
     "slide_type": "slide"
    }
   },
   "source": [
    "### Réalisation matérielle\n",
    "\n",
    "La réalisation des structures bouclées se base de plus en plus sur le traitement numérique des signaux (utilisation des PC et calculateurs industriels). Cette technique s'appuie sur plusieurs disciplines:\n",
    "- l'électronique analogique et numérique (préparations, conditionnements des signaux, conversions numériques /\n",
    "analogiques),\n",
    "- les microprocesseurs (classiques ou dédiés au traitement du signal),\n",
    "- l'informatique (algorithmes, systèmes de développements, exploitations),\n",
    "\n",
    "On a alors recours à des cartes basées sur des processeurs de traitements des signaux, plus communément désignés par l'acronyme Anglais DSP (Digital Signal Processor)."
   ]
  },
  {
   "cell_type": "markdown",
   "metadata": {
    "slideshow": {
     "slide_type": "slide"
    }
   },
   "source": [
    "### Exemple de mise en oeuvre\n",
    "L'ingénieur développe sur PC la commande à appliquer au système (langage C, Python, logiciel dédié,...). Le code est ensuite chargé sur la carte qui travaille de manière **autonome** et en temps réel.<br>\n",
    "<div><center><img src=\"Figures/RealMaterielle.svg\" width=\"60%\"/></center></div> \n",
    "Ces aspects numériques seront pour nous transparents et seules les relations entre  $r(t)$, $u(t)$, $d(t)$, $c(t)$ et $y(t)$ seront considérées."
   ]
  },
  {
   "cell_type": "markdown",
   "metadata": {
    "slideshow": {
     "slide_type": "slide"
    }
   },
   "source": [
    "### Stabilité et Structure bouclée\n",
    "\n",
    "- L'Automatique se base sur deux notions centrales que sont la **structure bouclée** et la **stabilité**. L'objectif de toute application consiste d'abord à assurer la stabilité d'un système commandé. On trouve diverses définitions de la stabilité, parfois équivalentes.\n",
    "    * \\begin{definition}  Un système sera dit dans un état d'équilibre stable si, écarté de cet état, il tend à y revenir (instable dans le cas contraire).\n",
    "    \\end{definition}\n",
    "    * \\begin{definition}  Un système sera dit stable si à toute entrée $u(t)$ d'amplitude bornée, la sortie $y(t)$ reste également bornée.\n",
    "    \\end{definition}\n",
    "- C'est en procédant au bouclage que l'on stabilise un processus instable. Ce même bouclage permet d'améliorer les performances du système (rapidité, robustesse aux perturbations, etc.)"
   ]
  },
  {
   "cell_type": "markdown",
   "metadata": {
    "cell_style": "center",
    "slideshow": {
     "slide_type": "slide"
    }
   },
   "source": [
    "### Illustration de la stabilité et stabilisation d'une pendule inverse\n",
    "<table>\n",
    "<tr ><td style=\"background-color:lightgrey, width=50%\"> <p>C'est en procédant au bouclage que l'on stabilise un processus instable.\n",
    "    <br> <br>Ce même bouclage permet d'améliorer les performances du système \n",
    "    (rapidité, robustesse aux perturbations, etc.) </p></td>\n",
    "    <td>  <center><video width=\"80%\" controls src=\"Videos/Lagis-Pendule-2020.mp4\">animation</video> </center></td>\n",
    "    </tr>\n",
    "</table>   \n",
    "\n"
   ]
  },
  {
   "cell_type": "code",
   "execution_count": null,
   "metadata": {
    "slideshow": {
     "slide_type": "slide"
    }
   },
   "outputs": [],
   "source": []
  }
 ],
 "metadata": {
  "celltoolbar": "Diaporama",
  "hide_input": false,
  "kernelspec": {
   "display_name": "Python 3",
   "language": "python",
   "name": "python3"
  },
  "language_info": {
   "codemirror_mode": {
    "name": "ipython",
    "version": 3
   },
   "file_extension": ".py",
   "mimetype": "text/x-python",
   "name": "python",
   "nbconvert_exporter": "python",
   "pygments_lexer": "ipython3",
   "version": "3.7.6"
  },
  "latex_envs": {
   "LaTeX_envs_menu_present": true,
   "autoclose": false,
   "autocomplete": false,
   "bibliofile": "biblio.bib",
   "cite_by": "apalike",
   "current_citInitial": 1,
   "eqLabelWithNumbers": true,
   "eqNumInitial": 1,
   "hotkeys": {
    "equation": "Ctrl-E",
    "itemize": "Ctrl-I"
   },
   "labels_anchors": true,
   "latex_user_defs": true,
   "report_style_numbering": false,
   "user_envs_cfg": true
  }
 },
 "nbformat": 4,
 "nbformat_minor": 4
}
